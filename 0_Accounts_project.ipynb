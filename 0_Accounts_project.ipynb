{
 "cells": [
  {
   "cell_type": "markdown",
   "id": "1ca33ea8-cfa8-4fbe-a7cc-8adc2ab6f976",
   "metadata": {},
   "source": [
    "**Writing Smart Contracts 2024: Final Project by Kristina Odermatt (odermk@usi.ch)**\n",
    "\n",
    "**(6) Voting**:  A club has a membership list with the public keys of all members. Write a smart contract that allows members to vote for one of three candidates (Rossi, Smith or Meier). Extension: (1) Ensure that voting is only possible in a certain time frame.\n",
    "\n"
   ]
  },
  {
   "cell_type": "markdown",
   "id": "b6f3e134-9632-4507-b11e-51bb8b7fbfde",
   "metadata": {
    "tags": []
   },
   "source": [
    "# **Notebook 0: Creating accounts**"
   ]
  },
  {
   "cell_type": "markdown",
   "id": "80c64044-a25a-4485-897f-316fd509c83d",
   "metadata": {
    "tags": []
   },
   "source": [
    "## Step 1"
   ]
  },
  {
   "cell_type": "code",
   "execution_count": 1,
   "id": "289776c1-4de7-4bb4-9f20-517127e9b3c6",
   "metadata": {},
   "outputs": [],
   "source": [
    "# import necessary modules from the algosdk package\n",
    "from algosdk import account, mnemonic\n",
    "import json"
   ]
  },
  {
   "cell_type": "markdown",
   "id": "a69f0de8-7476-49c5-bf0b-a8be5e2dfdb9",
   "metadata": {
    "tags": []
   },
   "source": [
    "## Step 2"
   ]
  },
  {
   "cell_type": "code",
   "execution_count": 2,
   "id": "daeb60ce-222f-4038-9b90-a3bed58c9fb3",
   "metadata": {},
   "outputs": [],
   "source": [
    "# create a new Algorand account and return it as a dictionary\n",
    "def generate_account_dict():\n",
    "    # generate a new private key using the generate_account() function from the account module\n",
    "    private_key = account.generate_account()[0]    # need [0], because generate_account() returns a list\n",
    "    \n",
    "    # construct a dictionary to store the account details\n",
    "    acc = {}\n",
    "    \n",
    "    # obtain the public key corresponding to the generated private key\n",
    "    acc['public'] = account.address_from_private_key(private_key)\n",
    "    \n",
    "    # store the private key in the dictionary\n",
    "    acc['private'] = private_key\n",
    "    \n",
    "    # derive the mnemonic phrase from the private key\n",
    "    acc['mnemonic'] = mnemonic.from_private_key(private_key)\n",
    "    \n",
    "    # return the dictionary containing the account details\n",
    "    return acc\n"
   ]
  },
  {
   "cell_type": "markdown",
   "id": "a39d1db7-3d17-4d83-86cd-3f89697b0313",
   "metadata": {
    "tags": []
   },
   "source": [
    "## Step 3: Members accounts"
   ]
  },
  {
   "cell_type": "markdown",
   "id": "c734c748-a626-4648-bdd1-3383366a0c10",
   "metadata": {},
   "source": [
    "Note: \n",
    "* Each account's details are stored in the members dictionary with a key format of Member_i, where i is the iteration number. Each member will have their unique account details (like public key, private key, and mnemonic) stored under their respective identifier\n",
    "\n",
    "* A second dictionary named public_keys is initialized to map member names to their public keys specifically. These public keys are then stored in the public_keys dictionary, keyed by the member's identifier (Member_i), effectively creating a lookup table for member names to their public keys"
   ]
  },
  {
   "cell_type": "code",
   "execution_count": 3,
   "id": "7377f431-1f96-4ebd-adc2-5da3f8ccc108",
   "metadata": {},
   "outputs": [],
   "source": [
    "# create member accounts and store in a dictionary\n",
    "members = {}\n",
    "for i in range(1, 16):  # For Member_1 to Member_15\n",
    "    member_name = f\"Member_{i}\"\n",
    "    members[member_name] = generate_account_dict()"
   ]
  },
  {
   "cell_type": "code",
   "execution_count": 4,
   "id": "732dfe0c-85c8-496f-a9c6-47794288d3e0",
   "metadata": {},
   "outputs": [],
   "source": [
    "# construct a dictionary called public_keys to store mappings of member names to their public keys.\n",
    "public_keys = {}  # initialize an empty dictionary to store public keys\n",
    "\n",
    "# iterate over the range of numbers representing member indices\n",
    "for i in range(1, 16):\n",
    "    # construct the key for the dictionary entry using the format \"Member_i\"\n",
    "    key = f\"Member_{i}\"\n",
    "    # retrieve the public key of the member from the `members` dictionary and assign it as the value\n",
    "    public_keys[key] = members[key]['public']\n",
    "\n",
    "# after the loop completes, the public_keys dictionary contains mappings of member names to their public keys\n"
   ]
  },
  {
   "cell_type": "markdown",
   "id": "2ac827ac-cbda-449d-a26b-3778af3c3d94",
   "metadata": {
    "tags": []
   },
   "source": [
    "## Step 4: Club account"
   ]
  },
  {
   "cell_type": "code",
   "execution_count": 5,
   "id": "ae6ebfaf-315d-46d5-99d0-be2c352a3f4a",
   "metadata": {},
   "outputs": [],
   "source": [
    "# create the club account\n",
    "club = generate_account_dict()"
   ]
  },
  {
   "cell_type": "markdown",
   "id": "df8dbe24-b323-45d5-8bf2-1aeb8b93479e",
   "metadata": {
    "tags": []
   },
   "source": [
    "## Step 5: Create Python dict with credentials and save as JSON\n",
    "* Members credentials and Club credentials are stored automatically in the `credentials_project` file\n",
    "* `credentials_project` file should appear automatically in the \"Odermatt_Project_WSC\" folder \n",
    "  "
   ]
  },
  {
   "cell_type": "code",
   "execution_count": 6,
   "id": "658416ea-489a-4626-954b-f108a656b22c",
   "metadata": {},
   "outputs": [],
   "source": [
    "# define a dictionary named 'cred' to store credentials\n",
    "cred = {\n",
    "    \"algod_test\": \"https://testnet-api.algonode.cloud\",  \n",
    "    \"algod_main\": \"https://mainnet-api.algonode.cloud\",  \n",
    "    \"index_test\": \"https://testnet-idx.algonode.cloud\",  \n",
    "    \"index_main\": \"https://mainnet-idx.algonode.cloud\",  \n",
    "    \"explore_main\": \"https://testnet.explorer.perawallet.app/\",  \n",
    "    \"explore_test\": \"https://explorer.perawallet.app/\",  \n",
    "    \"api_token\": \"\",  \n",
    "}\n",
    "\n",
    "# add additional entries to the 'cred' dictionary\n",
    "cred[\"Members\"] = members  # Adds a list or dictionary named 'members' to the 'cred' dictionary under the key \"Members\"\n",
    "cred[\"Club\"] = club  # Adds a list or dictionary named 'club' to the 'cred' dictionary under the key \"Club\"\n",
    "\n",
    "# convert the 'cred' dictionary to a JSON-formatted string \n",
    "cred_json = json.dumps(cred, indent=4)\n",
    "\n",
    "# specify the filename for storing the JSON data\n",
    "filename = 'credentials_project'\n",
    "\n",
    "# open a file named 'credentials_project' \n",
    "with open(filename, 'w') as outfile:\n",
    "    outfile.write(cred_json)  # write the JSON-formatted string to 'outfile', which is the opened file.\n"
   ]
  }
 ],
 "metadata": {
  "kernelspec": {
   "display_name": "Python 3 (ipykernel)",
   "language": "python",
   "name": "python3"
  },
  "language_info": {
   "codemirror_mode": {
    "name": "ipython",
    "version": 3
   },
   "file_extension": ".py",
   "mimetype": "text/x-python",
   "name": "python",
   "nbconvert_exporter": "python",
   "pygments_lexer": "ipython3",
   "version": "3.10.9"
  }
 },
 "nbformat": 4,
 "nbformat_minor": 5
}
