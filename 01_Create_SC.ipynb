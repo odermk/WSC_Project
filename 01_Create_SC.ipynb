{
 "cells": [
  {
   "cell_type": "markdown",
   "id": "4c16ba74-8107-4eb0-b453-8f8501f907d7",
   "metadata": {},
   "source": [
    "**Writing Smart Contracts 2024: Final Project by Kristina Odermatt (odermk@usi.ch)**\n",
    "\n",
    "**(6) Voting**:  A club has a membership list with the public keys of all members. Write a smart contract that allows members to vote for one of three candidates (Rossi, Smith or Meier). Extension: (1) Ensure that voting is only possible in a certain time frame.\n",
    "\n",
    "\n"
   ]
  },
  {
   "cell_type": "markdown",
   "id": "d90d79b0-9f1f-42b4-9d94-03716419d595",
   "metadata": {
    "tags": []
   },
   "source": [
    "# **Notebook 1: Creating and deploying the smart contract**"
   ]
  },
  {
   "cell_type": "markdown",
   "id": "dfd535ee-9204-417b-af7e-1c9778051442",
   "metadata": {
    "tags": []
   },
   "source": [
    "## Setup "
   ]
  },
  {
   "cell_type": "code",
   "execution_count": 1,
   "id": "40ec5590-193d-4f4b-a781-5ce53d019b33",
   "metadata": {},
   "outputs": [],
   "source": [
    "# loading shared code and credentials\n",
    "from algo_util import *\n",
    "\n",
    "cred = load_credentials(\"./credentials_project\")\n",
    "members = cred['Members']\n",
    "club = cred['Club']\n"
   ]
  },
  {
   "cell_type": "code",
   "execution_count": 2,
   "id": "5ebc8597-eac8-4ad0-890f-eca40d0e9df6",
   "metadata": {},
   "outputs": [],
   "source": [
    "# importing necessary modules and functions from the Algorand SDK\n",
    "from algosdk import account, mnemonic\n",
    "from algosdk.v2client import algod\n",
    "from algosdk import transaction\n",
    "from algosdk.transaction import PaymentTxn\n",
    "from algosdk.transaction import AssetConfigTxn, AssetTransferTxn, AssetFreezeTxn\n",
    "import algosdk.error\n",
    "import json\n",
    "import base64\n",
    "import datetime"
   ]
  },
  {
   "cell_type": "code",
   "execution_count": 3,
   "id": "abc289bf-347f-4a04-9ffe-36f6a90ff362",
   "metadata": {},
   "outputs": [],
   "source": [
    "# importing all the contents from the pyteal module\n",
    "from pyteal import *"
   ]
  },
  {
   "cell_type": "code",
   "execution_count": 4,
   "id": "45dff69e-4427-4744-8f09-a7f7715c97be",
   "metadata": {},
   "outputs": [
    {
     "data": {
      "text/plain": [
       "38927104"
      ]
     },
     "execution_count": 4,
     "metadata": {},
     "output_type": "execute_result"
    }
   ],
   "source": [
    "# initialize the algod client (Testnet)\n",
    "algod_client = algod.AlgodClient(algod_token='', algod_address=cred['algod_test'], headers=cred['api_token'])\n",
    "algod_client.status()['last-round']"
   ]
  },
  {
   "cell_type": "code",
   "execution_count": 5,
   "id": "110c2690-f754-4236-affa-0d9214f6e38a",
   "metadata": {},
   "outputs": [
    {
     "name": "stdout",
     "output_type": "stream",
     "text": [
      "Member_1: 4PTDQQ2P5L7GR4TQQOUPEKMZIYIR3GUN27TMG2J4WRTCL64RCOEZVB3YDI\n",
      "Member_2: AH4EIE2RRD47FAMDCTQXUC3SP6HK5XQTIFNOGANNPRG6Q6UEKUOWOXBFUU\n",
      "Member_3: PSETUPGFLYJIW6RLSMVWRNIM4E4FDAU43HMEHVGJEGPHM6YMWF5UOMUEVU\n",
      "Member_4: DRKOGSHJTEMVXLSZ3BRZTY4KLFQ2XM2ASB4ZRDIQE2PE3OW54PG3VI7X64\n",
      "Member_5: VPIXH54SZ3YC6AEIGUABMXOTAAMVNXLE6IINBOLPB4MQRHRP36ACEK33UQ\n",
      "Member_6: YTCBPJA5VVI32KFOAUN7KXRPQBDA53SVSEEWDFC2VSP7ZV5QODPCGNWFTE\n",
      "Member_7: PVNIKBBQKUICXIAY64GLW5X3JJLB3URYQFZJPQ5LLGKF4KXC4MGYW6E344\n",
      "Member_8: L437EAAM32GCXHF7NHDJT57ETQLGLLGZ74ORU5U2R4YM4OXUI6ZARW5YFY\n",
      "Member_9: MDBVAFK5KK2UVDZKQNREXUNXUERGHOMISZMVV3P5EUDHD4I4ZDBGRL3XFQ\n",
      "Member_10: KPOVOUJYWZEADLWI2CNOWKBHVIG3BPBB2H2HAK4F4NUIXFV5WKT4EEFKLI\n",
      "Member_11: OSS6YJ7OT7W55JGC2ZIEPYV6HKKVI3KT6C326T4NOSAFRCOW7Y3PAXBJOA\n",
      "Member_12: QQO2SO3SO6U3QBCPB3QBP44625G42CSY7YNIPMVZRHWZPXMGJDJDMX5NPU\n",
      "Member_13: 4FK2DU2FX2BEILN22TDEM7OABP777SBITGK25CQUUX3EUGY5CVI53UWJRM\n",
      "Member_14: RFHODOL22YZ733SQV5OOLASUMQRS22BUPF23KIRDLEP37OWR47EAW5UH4E\n",
      "Member_15: 7NE2HI2AYRPNNT437QIOWPN6E7Y4A3O7RIRRDWIA45A4JV6GNV5ANZPW2Y\n"
     ]
    }
   ],
   "source": [
    "# print member's public key\n",
    "for member_id, member_details in cred['Members'].items():\n",
    "    public_key = member_details['public']\n",
    "    print(f\"{member_id}: {public_key}\")\n"
   ]
  },
  {
   "cell_type": "code",
   "execution_count": 6,
   "id": "5cf0c9b9-2cf4-47ed-8078-0208bbc6b375",
   "metadata": {},
   "outputs": [
    {
     "data": {
      "text/plain": [
       "'KPH4VDOVVVP3BWOUJYIETXGDMS3ZQR3DHCQ7HBEHTVCKIN264VW7WUJZ5E'"
      ]
     },
     "execution_count": 6,
     "metadata": {},
     "output_type": "execute_result"
    }
   ],
   "source": [
    "# print club's public key\n",
    "(club['public'])"
   ]
  },
  {
   "cell_type": "markdown",
   "id": "139cb28a-7072-4b0a-9bbe-bbdd84d97266",
   "metadata": {
    "jp-MarkdownHeadingCollapsed": true,
    "tags": []
   },
   "source": [
    "## Fund accounts\n",
    "* ‼️ Prior to using the smart contract it is essential to fund Members accounts and Club account for transaction fees and smart contract interactions\n",
    "\n",
    "* Visit https://dispenser.testnet.aws.algodev.network and select **Currency 5 Algo**\n"
   ]
  },
  {
   "cell_type": "markdown",
   "id": "fc119261-3f7c-4e39-8be9-b47d32b038a2",
   "metadata": {
    "tags": []
   },
   "source": [
    "## 1.1 Creating the Smart Contract"
   ]
  },
  {
   "cell_type": "markdown",
   "id": "22b9d91d-9606-439c-b4bb-d97cfdfd1d74",
   "metadata": {
    "tags": []
   },
   "source": [
    "### Step 1: Define the Approval Program"
   ]
  },
  {
   "cell_type": "code",
   "execution_count": 7,
   "id": "a44a09c8-99cf-4bc6-ad80-997de68167aa",
   "metadata": {},
   "outputs": [],
   "source": [
    "# find current last round from the Algorand blockchain\n",
    "last_round = algod_client.status()['last-round']\n",
    "\n",
    "# set the voting start round to be the next round after the current last round\n",
    "voting_start_round = Int(last_round + 1)  # Use Int for PyTeal compatibility\n",
    "\n",
    "# set the voting end round to be 200 rounds after the voting start round\n",
    "voting_end_round = voting_start_round + Int(200)  # Adding 200 rounds as the voting period, which shoud be approx. 15 minutes"
   ]
  },
  {
   "cell_type": "code",
   "execution_count": 8,
   "id": "87c61bac-f582-4bb8-8fc7-651c2abd31c5",
   "metadata": {},
   "outputs": [],
   "source": [
    "# define the public key of the club account to distinguish it from members accounts\n",
    "club_account_pk = Addr(club['public'])"
   ]
  },
  {
   "cell_type": "code",
   "execution_count": 9,
   "id": "5c2c8c45-f9e4-4073-b500-0b6ab7679ff4",
   "metadata": {},
   "outputs": [],
   "source": [
    "# handle the creation of the smart contract instance\n",
    "handle_creation = Seq([\n",
    "    # initialize global state variables\n",
    "    App.globalPut(Bytes(\"Note\"), Bytes(\"Welcome to the Voting System\")),  # welcome note\n",
    "    App.globalPut(Bytes(\"Members\"), Int(15)),  # total number of club members is fixed to 15 before and after voting\n",
    "    App.globalPut(Bytes(\"TotalVotes\"), Int(0)),  # counter for total votes cast\n",
    "    App.globalPut(Bytes(\"StartRound\"), voting_start_round),  # start of the voting period\n",
    "    App.globalPut(Bytes(\"EndRound\"), voting_end_round),  # end of the voting period\n",
    "    Return(Int(1))  # successfully created the app\n",
    "])\n",
    "\n",
    "# handle user opt-in to the smart contract (enabling per-user local state)\n",
    "handle_optin = Seq([\n",
    "    # initialize 'has_voted' local state for the user as 0 (false)\n",
    "    App.localPut(\n",
    "        Int(0), \n",
    "        Bytes(\"has_voted\"), \n",
    "        Int(0)\n",
    "    ),\n",
    "    Return(Int(1))  # opt-in succeeded\n",
    "])\n",
    "\n",
    "# handle account closeout from the smart contract\n",
    "handle_closeout = Return(Int(1))  # No special action required on closeout\n",
    "\n",
    "# handle request to update the smart contract code\n",
    "handle_updateapp = Return(Int(0))  # disallow updates to the app by default\n",
    "\n",
    "# handle request to delete the smart contract\n",
    "handle_deleteapp = Return(\n",
    "    Txn.sender() == Global.creator_address()  # allow deletion only by the contract creator which is the club\n",
    ")\n",
    "\n",
    "# handle no-op transactions (main logic for voting)\n",
    "handle_noop = Seq([\n",
    "    # conditional branch for handling voting logic\n",
    "    If(\n",
    "        And(\n",
    "            # check if exactly one argument is passed (candidate name)\n",
    "            Txn.application_args.length() == Int(1),\n",
    "            # ensure current round is within the voting period\n",
    "            Global.round() >= App.globalGet(Bytes(\"StartRound\")),\n",
    "            Global.round() <= App.globalGet(Bytes(\"EndRound\")),\n",
    "            # ensure the sender is not the club account (prevent tampering)\n",
    "            Txn.sender() != club_account_pk,\n",
    "            # ensure the sender has not already voted\n",
    "            App.localGet(Int(0), Bytes(\"has_voted\")) == Int(0)\n",
    "        ),\n",
    "        Seq([\n",
    "            # validate candidate name and process vote\n",
    "            If(\n",
    "                Or(\n",
    "                    Txn.application_args[0] == Bytes(\"Rossi\"),\n",
    "                    Txn.application_args[0] == Bytes(\"Smith\"),\n",
    "                    Txn.application_args[0] == Bytes(\"Meier\")\n",
    "                ),\n",
    "                Seq([\n",
    "                    # increment vote count for the selected candidate\n",
    "                    App.globalPut(Txn.application_args[0], App.globalGet(Txn.application_args[0]) + Int(1)),\n",
    "                    \n",
    "                    # increment total number of votes cast\n",
    "                    App.globalPut(Bytes(\"TotalVotes\"), App.globalGet(Bytes(\"TotalVotes\")) + Int(1)),\n",
    "                    \n",
    "                    # mark the voter as having voted\n",
    "                    App.localPut(Int(0), Bytes(\"has_voted\"), Int(1)),\n",
    "                    Return(Int(1))  # Vote successfully recorded\n",
    "                ]),\n",
    "                Return(Int(0))  # return failure for invalid candidate name\n",
    "            )\n",
    "        ]),\n",
    "        Return(Int(0))  # return failure if conditions for voting are not met\n",
    "    )         \n",
    "])"
   ]
  },
  {
   "cell_type": "code",
   "execution_count": 10,
   "id": "8e5571e1-de9d-4559-a99b-33fc37fb61ad",
   "metadata": {},
   "outputs": [],
   "source": [
    "# this function routes the execution to different blocks of code based on the type of transaction being processed\n",
    "member_vote_approval_pyteal = Cond(\n",
    "    \n",
    "    # if the application is being created, execute the handle_creation logic\n",
    "    [Txn.application_id() == Int(0),                       handle_creation],\n",
    "    \n",
    "    # if a user opts in to the application, execute the handle_optin logic\n",
    "    [Txn.on_completion()  == OnComplete.OptIn,             handle_optin],\n",
    "    \n",
    "    # if a user is closing out of the application, execute the handle_closeout logic\n",
    "    [Txn.on_completion()  == OnComplete.CloseOut,          handle_closeout],\n",
    "    \n",
    "    # if there's an attempt to update the application, execute the handle_updateapp logic\n",
    "    [Txn.on_completion()  == OnComplete.UpdateApplication, handle_updateapp],\n",
    "    \n",
    "    # if there's a request to delete the application, execute the handle_deleteapp logic\n",
    "    [Txn.on_completion()  == OnComplete.DeleteApplication, handle_deleteapp],\n",
    "    \n",
    "    # for any other no-op transactions (like voting), execute the handle_noop logic\n",
    "    [Txn.on_completion()  == OnComplete.NoOp,              handle_noop],\n",
    ")\n"
   ]
  },
  {
   "cell_type": "markdown",
   "id": "da9ea958-37a1-4eb3-9120-887b75e39fa3",
   "metadata": {
    "tags": []
   },
   "source": [
    "#### Compile PyTEAL -> TEAL"
   ]
  },
  {
   "cell_type": "code",
   "execution_count": 11,
   "id": "7195328f-3426-423e-85ee-0f877acc09a6",
   "metadata": {},
   "outputs": [
    {
     "name": "stdout",
     "output_type": "stream",
     "text": [
      "#pragma version 5\n",
      "txn ApplicationID\n",
      "int 0\n",
      "==\n",
      "bnz main_l16\n",
      "txn OnCompletion\n",
      "int OptIn\n",
      "==\n",
      "bnz main_l15\n",
      "txn OnCompletion\n",
      "int CloseOut\n",
      "==\n",
      "bnz main_l14\n",
      "txn OnCompletion\n",
      "int UpdateApplication\n",
      "==\n",
      "bnz main_l13\n",
      "txn OnCompletion\n",
      "int DeleteApplication\n",
      "==\n",
      "bnz main_l12\n",
      "txn OnCompletion\n",
      "int NoOp\n",
      "==\n",
      "bnz main_l7\n",
      "err\n",
      "main_l7:\n",
      "txn NumAppArgs\n",
      "int 1\n",
      "==\n",
      "global Round\n",
      "byte \"StartRound\"\n",
      "app_global_get\n",
      ">=\n",
      "&&\n",
      "global Round\n",
      "byte \"EndRound\"\n",
      "app_global_get\n",
      "<=\n",
      "&&\n",
      "txn Sender\n",
      "addr KPH4VDOVVVP3BWOUJYIETXGDMS3ZQR3DHCQ7HBEHTVCKIN264VW7WUJZ5E\n",
      "!=\n",
      "&&\n",
      "int 0\n",
      "byte \"has_voted\"\n",
      "app_local_get\n",
      "int 0\n",
      "==\n",
      "&&\n",
      "bnz main_l9\n",
      "int 0\n",
      "return\n",
      "main_l9:\n",
      "txna ApplicationArgs 0\n",
      "byte \"Rossi\"\n",
      "==\n",
      "txna ApplicationArgs 0\n",
      "byte \"Smith\"\n",
      "==\n",
      "||\n",
      "txna ApplicationArgs 0\n",
      "byte \"Meier\"\n",
      "==\n",
      "||\n",
      "bnz main_l11\n",
      "int 0\n",
      "return\n",
      "main_l11:\n",
      "txna ApplicationArgs 0\n",
      "txna ApplicationArgs 0\n",
      "app_global_get\n",
      "int 1\n",
      "+\n",
      "app_global_put\n",
      "byte \"TotalVotes\"\n",
      "byte \"TotalVotes\"\n",
      "app_global_get\n",
      "int 1\n",
      "+\n",
      "app_global_put\n",
      "int 0\n",
      "byte \"has_voted\"\n",
      "int 1\n",
      "app_local_put\n",
      "int 1\n",
      "return\n",
      "main_l12:\n",
      "txn Sender\n",
      "global CreatorAddress\n",
      "==\n",
      "return\n",
      "main_l13:\n",
      "int 0\n",
      "return\n",
      "main_l14:\n",
      "int 1\n",
      "return\n",
      "main_l15:\n",
      "int 0\n",
      "byte \"has_voted\"\n",
      "int 0\n",
      "app_local_put\n",
      "int 1\n",
      "return\n",
      "main_l16:\n",
      "byte \"Note\"\n",
      "byte \"Welcome to the Voting System\"\n",
      "app_global_put\n",
      "byte \"Members\"\n",
      "int 15\n",
      "app_global_put\n",
      "byte \"TotalVotes\"\n",
      "int 0\n",
      "app_global_put\n",
      "byte \"StartRound\"\n",
      "int 38927105\n",
      "app_global_put\n",
      "byte \"EndRound\"\n",
      "int 38927105\n",
      "int 200\n",
      "+\n",
      "app_global_put\n",
      "int 1\n",
      "return\n"
     ]
    }
   ],
   "source": [
    "# compile the PyTeal into TEAL code\n",
    "member_vote_approval_teal = compileTeal(member_vote_approval_pyteal, mode=Mode.Application, version=5)\n",
    "print(member_vote_approval_teal)\n"
   ]
  },
  {
   "cell_type": "markdown",
   "id": "2d1d9c32-337c-4605-b720-111b38de8c04",
   "metadata": {
    "tags": []
   },
   "source": [
    "### Step 2: Define Clear State Program"
   ]
  },
  {
   "cell_type": "code",
   "execution_count": 12,
   "id": "208cea7e-ab25-4cd1-af64-eb790a0afb87",
   "metadata": {},
   "outputs": [
    {
     "name": "stdout",
     "output_type": "stream",
     "text": [
      "#pragma version 3\n",
      "int 1\n",
      "return\n"
     ]
    }
   ],
   "source": [
    "# define the Clear State Program using PyTeal\n",
    "clear_state_program_pyteal = Return(Int(1))  # Simple clear state logic\n",
    "\n",
    "# compile the PyTeal Clear State Program into TEAL code\n",
    "member_vote_clear_teal = compileTeal(clear_state_program_pyteal, mode=Mode.Application, version=3)\n",
    "\n",
    "print(member_vote_clear_teal)\n"
   ]
  },
  {
   "cell_type": "markdown",
   "id": "49ce8383-eb58-4a5b-9259-66bc614a1c20",
   "metadata": {
    "tags": []
   },
   "source": [
    "#### Compile TEAL -> Bytecode¶"
   ]
  },
  {
   "cell_type": "code",
   "execution_count": 13,
   "id": "10859a74-ab14-46e7-8f7d-61ce629e0ace",
   "metadata": {},
   "outputs": [
    {
     "name": "stdout",
     "output_type": "stream",
     "text": [
      "Approval Program Compiled to Bytecode\n",
      "Clear State Program Compiled to Bytecode\n"
     ]
    }
   ],
   "source": [
    "# compile the Approval Program TEAL code into bytecode\n",
    "approval_program_response = algod_client.compile(member_vote_approval_teal)\n",
    "approval_program_compiled = base64.b64decode(approval_program_response['result'])\n",
    "print(\"Approval Program Compiled to Bytecode\")\n",
    "\n",
    "# compile the Clear State Program TEAL code into bytecode\n",
    "clear_program_response = algod_client.compile(member_vote_clear_teal)\n",
    "clear_program_compiled = base64.b64decode(clear_program_response['result'])\n",
    "print(\"Clear State Program Compiled to Bytecode\")\n"
   ]
  },
  {
   "cell_type": "markdown",
   "id": "1e0ede20-617a-4107-88ea-f24f7eda7db1",
   "metadata": {
    "tags": []
   },
   "source": [
    "## 1.2 Deploying the Smart Contract"
   ]
  },
  {
   "cell_type": "code",
   "execution_count": 14,
   "id": "d766a219-a152-46fe-9280-fc0da000c2aa",
   "metadata": {},
   "outputs": [],
   "source": [
    "# retrieve the current suggested transaction parameters from the Algorand network\n",
    "sp = algod_client.suggested_params()\n"
   ]
  },
  {
   "cell_type": "code",
   "execution_count": 15,
   "id": "27488f04-6cc6-42fe-96a0-170f13683d17",
   "metadata": {},
   "outputs": [],
   "source": [
    "# define state schemas for the smart contract's global and local state\n",
    "global_ints = 7    # for \"Rossi\", \"Smith\", \"Meier\" votes and \"TotalVotes\"\n",
    "global_bytes = 1   # for \"Note\"\n",
    "voting_global_schema = transaction.StateSchema(global_ints, global_bytes)\n",
    "\n",
    "local_ints = 1    # for \"has_voted\" only\n",
    "local_bytes = 0    # no local byte slices are required\n",
    "voting_local_schema = transaction.StateSchema(local_ints, local_bytes)\n"
   ]
  },
  {
   "cell_type": "code",
   "execution_count": 16,
   "id": "dccab473-e58b-4d49-b09b-92f9bf463a5b",
   "metadata": {},
   "outputs": [],
   "source": [
    "# step 1: create an application transaction to deploy the smart contract on the Algorand blockchain\n",
    "txn = transaction.ApplicationCreateTxn(\n",
    "      sender = club['public'],\n",
    "      sp = sp,\n",
    "      on_complete = transaction.OnComplete.NoOpOC,\n",
    "      approval_program = approval_program_compiled,\n",
    "      clear_program = clear_program_compiled,\n",
    "      global_schema = voting_global_schema,\n",
    "      local_schema = voting_local_schema\n",
    "    )\n"
   ]
  },
  {
   "cell_type": "code",
   "execution_count": 17,
   "id": "2505f626-68ff-4ed7-8cea-0342f1889276",
   "metadata": {},
   "outputs": [
    {
     "name": "stdout",
     "output_type": "stream",
     "text": [
      "Current round is  38927107.\n",
      "Waiting for round 38927107 to finish.\n",
      "Transaction JQIQZHAU4GFTJXNCPR4DJC5YHZQZGJLDNPLOYXANTEHO7H2WCBBA confirmed in round 38927108.\n"
     ]
    }
   ],
   "source": [
    "# step 2: sign transaction\n",
    "stxn = txn.sign(club['private'])\n",
    "\n",
    "# step 3: send\n",
    "txid=algod_client.send_transactions([stxn])\n",
    "\n",
    "# step 4: wait for ...\n",
    "txinfo = wait_for_confirmation(algod_client, txid)"
   ]
  },
  {
   "cell_type": "code",
   "execution_count": 18,
   "id": "f99a2f40-5ed8-4be5-b5d6-7b1da38070c6",
   "metadata": {},
   "outputs": [
    {
     "name": "stdout",
     "output_type": "stream",
     "text": [
      "Created new app-id: 640731779\n"
     ]
    }
   ],
   "source": [
    "# create new app_id which is unique for each smart contract\n",
    "app_id = txinfo[\"application-index\"]\n",
    "print(\"Created new app-id:\", app_id)"
   ]
  },
  {
   "cell_type": "markdown",
   "id": "6a0aebbc-97d5-4093-a9ef-69f8ca62a6f4",
   "metadata": {
    "tags": []
   },
   "source": [
    "## 1.3 Checking state of Smart Contract"
   ]
  },
  {
   "cell_type": "code",
   "execution_count": 19,
   "id": "20cb75d0-1d9b-4213-a394-07b79def1300",
   "metadata": {},
   "outputs": [
    {
     "data": {
      "text/plain": [
       "{'EndRound': 38927305,\n",
       " 'Members': 15,\n",
       " 'Note': 'Welcome to the Voting System',\n",
       " 'StartRound': 38927105,\n",
       " 'TotalVotes': 0}"
      ]
     },
     "execution_count": 19,
     "metadata": {},
     "output_type": "execute_result"
    }
   ],
   "source": [
    "# inspect global state\n",
    "read_global_state(algod_client,app_id) "
   ]
  },
  {
   "cell_type": "code",
   "execution_count": 20,
   "id": "df9b0bc2-0e62-4ea1-9695-f65c8ffc3f6c",
   "metadata": {},
   "outputs": [
    {
     "data": {
      "text/plain": [
       "{}"
      ]
     },
     "execution_count": 20,
     "metadata": {},
     "output_type": "execute_result"
    }
   ],
   "source": [
    "# insepct local state for Members\n",
    "member_name = 'Member_1'                    # <-- ‼️ UPDATE/CHANGE Member's name for each \n",
    "\n",
    "read_local_state(algod_client,members[member_name]['public'],app_id)"
   ]
  },
  {
   "cell_type": "code",
   "execution_count": 21,
   "id": "86e947c4-3030-48e7-ab73-7c71cde6aea3",
   "metadata": {},
   "outputs": [
    {
     "data": {
      "text/plain": [
       "{}"
      ]
     },
     "execution_count": 21,
     "metadata": {},
     "output_type": "execute_result"
    }
   ],
   "source": [
    "# insepct local state Club\n",
    "read_local_state(algod_client,club['public'],app_id)"
   ]
  },
  {
   "cell_type": "code",
   "execution_count": 22,
   "id": "01edaf21-0b67-45a7-84ec-83f2dfdd8fd1",
   "metadata": {},
   "outputs": [
    {
     "name": "stdout",
     "output_type": "stream",
     "text": [
      "https://testnet.explorer.perawallet.app/application/640731779\n"
     ]
    }
   ],
   "source": [
    "# program code immediately visible on the web\n",
    "print(f\"{cred['explore_main']}application/{app_id}\")"
   ]
  }
 ],
 "metadata": {
  "kernelspec": {
   "display_name": "Python 3 (ipykernel)",
   "language": "python",
   "name": "python3"
  },
  "language_info": {
   "codemirror_mode": {
    "name": "ipython",
    "version": 3
   },
   "file_extension": ".py",
   "mimetype": "text/x-python",
   "name": "python",
   "nbconvert_exporter": "python",
   "pygments_lexer": "ipython3",
   "version": "3.10.9"
  }
 },
 "nbformat": 4,
 "nbformat_minor": 5
}
