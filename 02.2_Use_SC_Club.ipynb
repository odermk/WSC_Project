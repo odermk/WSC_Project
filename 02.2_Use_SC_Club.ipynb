{
 "cells": [
  {
   "cell_type": "markdown",
   "id": "a35e2f23-bcbe-487a-980b-a4ef1dd50deb",
   "metadata": {},
   "source": [
    "**Writing Smart Contracts 2024: Final Project by Kristina Odermatt (odermk@usi.ch)**\n",
    "\n",
    "**(6) Voting**:  A club has a membership list with the public keys of all members. Write a smart contract that allows members to vote for one of three candidates (Rossi, Smith or Meier). Extension: (1) Ensure that voting is only possible in a certain time frame.\n",
    "\n"
   ]
  },
  {
   "cell_type": "markdown",
   "id": "1fd5fc19-9d22-42f0-a241-e686850e2412",
   "metadata": {
    "tags": []
   },
   "source": [
    "# **Notebook 2: Using the smart contract for Club**"
   ]
  },
  {
   "cell_type": "markdown",
   "id": "bbb1602c-c9ed-4d25-b9e6-9dca3d91512d",
   "metadata": {
    "tags": []
   },
   "source": [
    "## Setup\n"
   ]
  },
  {
   "cell_type": "code",
   "execution_count": 21,
   "id": "0da3d0d1-f691-47fc-a5ba-8e9509f7ce26",
   "metadata": {},
   "outputs": [],
   "source": [
    "# loading shared code and credentials\n",
    "from algo_util import *\n",
    "\n",
    "cred = load_credentials(\"./credentials_project\")\n",
    "members = cred['Members']\n",
    "club = cred['Club']\n"
   ]
  },
  {
   "cell_type": "code",
   "execution_count": 22,
   "id": "b2f0c165-8352-4c78-97bf-d11d3f038a4e",
   "metadata": {},
   "outputs": [],
   "source": [
    "# importing necessary modules and functions from the Algorand SDK\n",
    "from algosdk import account, mnemonic\n",
    "from algosdk.v2client import algod\n",
    "from algosdk import transaction\n",
    "from algosdk.transaction import PaymentTxn\n",
    "from algosdk.transaction import AssetConfigTxn, AssetTransferTxn, AssetFreezeTxn\n",
    "import algosdk.error\n",
    "import json\n",
    "import base64\n",
    "import datetime"
   ]
  },
  {
   "cell_type": "code",
   "execution_count": 23,
   "id": "35352771-666c-4acb-a5e4-87f7fb904ba3",
   "metadata": {},
   "outputs": [],
   "source": [
    "# importing all the contents from the pyteal module\n",
    "from pyteal import *"
   ]
  },
  {
   "cell_type": "code",
   "execution_count": 24,
   "id": "fe2c8fdb-f96c-49bb-bb67-79ad8c354573",
   "metadata": {},
   "outputs": [
    {
     "data": {
      "text/plain": [
       "38927564"
      ]
     },
     "execution_count": 24,
     "metadata": {},
     "output_type": "execute_result"
    }
   ],
   "source": [
    "# Initialize the algod client (Testnet)\n",
    "algod_client = algod.AlgodClient(algod_token='', algod_address=cred['algod_test'], headers=cred['api_token'])\n",
    "algod_client.status()['last-round']"
   ]
  },
  {
   "cell_type": "code",
   "execution_count": 25,
   "id": "44ea1beb-966a-4832-ae47-2cbb9ca77aa2",
   "metadata": {},
   "outputs": [],
   "source": [
    "# define the app_id from '01_Create_SC'\n",
    "\n",
    "app_id = 640731779                 # <--- ‼️‼️ INSERT/UPDATE APP_ID"
   ]
  },
  {
   "cell_type": "markdown",
   "id": "cfed7e33-afe5-47af-9aa5-5205bea7bdf9",
   "metadata": {
    "tags": []
   },
   "source": [
    "## Step 1: Club opts-in"
   ]
  },
  {
   "cell_type": "code",
   "execution_count": 26,
   "id": "b5aeff0d-ad94-493d-a6ca-b950515aa91f",
   "metadata": {},
   "outputs": [
    {
     "name": "stdout",
     "output_type": "stream",
     "text": [
      "Current round is  38927565.\n",
      "Waiting for round 38927565 to finish.\n",
      "Waiting for round 38927566 to finish.\n",
      "Transaction DIIEI7HRTZ6U2URG7ICE5ECZTUUZ5S46CX3OZKCXY7IROPN6I3AA confirmed in round 38927567.\n"
     ]
    }
   ],
   "source": [
    "user = club\n",
    "\n",
    "# Step 1: prepare transaction\n",
    "sp = algod_client.suggested_params()\n",
    "txn = transaction.ApplicationOptInTxn(user['public'], sp, app_id)\n",
    "\n",
    "# Step 2: sign transaction\n",
    "stxn = txn.sign(user['private'])\n",
    "\n",
    "# Step 3: send\n",
    "txid = algod_client.send_transactions([stxn])\n",
    "\n",
    "# Step 4: await confirmation\n",
    "txinfo = wait_for_confirmation(algod_client, txid)\n"
   ]
  },
  {
   "cell_type": "markdown",
   "id": "2a8bf4cb-0939-4309-9c29-a3d66c8e205e",
   "metadata": {
    "tags": []
   },
   "source": [
    "## Step 2: Inspecting the global state and the local states of the users\n",
    "During the voting period the club account is able to inspect global and local state to \n",
    "* check how many memebers have voted\n",
    "* check for each candidate's vote count\n",
    "* check rounds"
   ]
  },
  {
   "cell_type": "code",
   "execution_count": 27,
   "id": "1983b3d8-e1d3-40f2-af23-f3694636ad70",
   "metadata": {},
   "outputs": [
    {
     "data": {
      "text/plain": [
       "{'Rossi': 7,\n",
       " 'StartRound': 38927105,\n",
       " 'TotalVotes': 14,\n",
       " 'EndRound': 38927305,\n",
       " 'Smith': 3,\n",
       " 'Meier': 4,\n",
       " 'Members': 15,\n",
       " 'Note': 'Welcome to the Voting System'}"
      ]
     },
     "execution_count": 27,
     "metadata": {},
     "output_type": "execute_result"
    }
   ],
   "source": [
    "#Inspecting global state\n",
    "read_global_state(algod_client,app_id) "
   ]
  },
  {
   "cell_type": "code",
   "execution_count": 28,
   "id": "7a5ed1f7-18ae-484e-ac70-e478b67c40fd",
   "metadata": {},
   "outputs": [
    {
     "data": {
      "text/plain": [
       "{'has_voted': 1}"
      ]
     },
     "execution_count": 28,
     "metadata": {},
     "output_type": "execute_result"
    }
   ],
   "source": [
    "# insepct local state for Members\n",
    "member_name = 'Member_1'                    # <-- ‼️ UPDATE/CHANGE Member's name for each \n",
    "\n",
    "read_local_state(algod_client,members[member_name]['public'],app_id)"
   ]
  },
  {
   "cell_type": "code",
   "execution_count": 29,
   "id": "18b38a3f-9f28-470d-a22d-4fbfc9e783a9",
   "metadata": {},
   "outputs": [
    {
     "data": {
      "text/plain": [
       "{'has_voted': 0}"
      ]
     },
     "execution_count": 29,
     "metadata": {},
     "output_type": "execute_result"
    }
   ],
   "source": [
    "# insepct local state Club\n",
    "read_local_state(algod_client,club['public'],app_id)"
   ]
  },
  {
   "cell_type": "markdown",
   "id": "c839e652-8da0-4aee-9e79-d490f2642128",
   "metadata": {
    "tags": []
   },
   "source": [
    "## Step 3: Club account closes out"
   ]
  },
  {
   "cell_type": "code",
   "execution_count": 30,
   "id": "5ec53c8d-6dfa-4e22-92f3-6c8f723f2b95",
   "metadata": {},
   "outputs": [
    {
     "name": "stdout",
     "output_type": "stream",
     "text": [
      "Current round is  38927568.\n",
      "Waiting for round 38927568 to finish.\n",
      "Waiting for round 38927569 to finish.\n",
      "Transaction ZZNJ6XYTSIZ5GTTYQYDCB4FQPIDAKSOWDPTUYS37TV5CTYZ6ITCA confirmed in round 38927570.\n",
      "Club closed out successfully. Transaction ID: ZZNJ6XYTSIZ5GTTYQYDCB4FQPIDAKSOWDPTUYS37TV5CTYZ6ITCA\n"
     ]
    }
   ],
   "source": [
    "user = club\n",
    "\n",
    "# Step 1: Prepare the CloseOut transaction\n",
    "sp = algod_client.suggested_params()\n",
    "txn = transaction.ApplicationCloseOutTxn(user['public'], sp, app_id)\n",
    "\n",
    "# Step 2: Sign the transaction with the club's private key\n",
    "stxn = txn.sign(user['private'])\n",
    "\n",
    "# Step 3: Send the transaction\n",
    "txid = algod_client.send_transactions([stxn])\n",
    "\n",
    "# Step 4: Await confirmation\n",
    "txinfo = wait_for_confirmation(algod_client, txid)\n",
    "\n",
    "print(f\"Club closed out successfully. Transaction ID: {txid}\")\n"
   ]
  },
  {
   "cell_type": "markdown",
   "id": "59ff1b85-727e-4ff9-99a5-71d1359bb0f4",
   "metadata": {
    "tags": []
   },
   "source": [
    "\n",
    "### Inspect the global state and the local states of the users\n",
    "\n",
    "* Check if memebers account and club account have closed out"
   ]
  },
  {
   "cell_type": "code",
   "execution_count": 31,
   "id": "fb660657-7390-484f-a0fc-cd9ca6349c5a",
   "metadata": {},
   "outputs": [
    {
     "data": {
      "text/plain": [
       "{'EndRound': 38927305,\n",
       " 'StartRound': 38927105,\n",
       " 'TotalVotes': 14,\n",
       " 'Note': 'Welcome to the Voting System',\n",
       " 'Meier': 4,\n",
       " 'Smith': 3,\n",
       " 'Members': 15,\n",
       " 'Rossi': 7}"
      ]
     },
     "execution_count": 31,
     "metadata": {},
     "output_type": "execute_result"
    }
   ],
   "source": [
    "#Inspect global state\n",
    "read_global_state(algod_client,app_id)"
   ]
  },
  {
   "cell_type": "code",
   "execution_count": 32,
   "id": "710510b8-32c7-4fc1-9e03-10de7a772252",
   "metadata": {},
   "outputs": [
    {
     "data": {
      "text/plain": [
       "{'has_voted': 0}"
      ]
     },
     "execution_count": 32,
     "metadata": {},
     "output_type": "execute_result"
    }
   ],
   "source": [
    "member_name = 'Member_15'        # <-- ‼️ UPDATE/CHANGE Member's name\n",
    "\n",
    "# Inspecting local state for Members\n",
    "read_local_state(algod_client,members[member_name]['public'],app_id)"
   ]
  },
  {
   "cell_type": "code",
   "execution_count": 33,
   "id": "a3335f8b-7927-41a4-87b5-87610be2a695",
   "metadata": {},
   "outputs": [
    {
     "data": {
      "text/plain": [
       "{}"
      ]
     },
     "execution_count": 33,
     "metadata": {},
     "output_type": "execute_result"
    }
   ],
   "source": [
    "#Inspect local state for Club\n",
    "read_local_state(algod_client,club['public'],app_id)"
   ]
  },
  {
   "cell_type": "markdown",
   "id": "2df6e3de-5c14-401d-a3a2-4185098e4fc2",
   "metadata": {
    "tags": []
   },
   "source": [
    "## Step 4: Club account deletes the App\n",
    "\n",
    "* The creator delets the App after the voting is concluded\n",
    "\n",
    "*  ‼️ Before running the following step, please test the Smart Contract in Notebook '03_Project_WSC' for test 3.4 and 3.5"
   ]
  },
  {
   "cell_type": "code",
   "execution_count": 34,
   "id": "710991b5-2076-4de4-bfa6-c8c004ab7a3f",
   "metadata": {},
   "outputs": [
    {
     "name": "stdout",
     "output_type": "stream",
     "text": [
      "Current round is  38927635.\n",
      "Waiting for round 38927635 to finish.\n",
      "Waiting for round 38927636 to finish.\n",
      "Transaction 34525LUNMMNNXY4EDF2Y45E534JOXJEJYRGQRXVNPURD2W3B4CMQ confirmed in round 38927637.\n",
      "Deleted app-id: 640731779\n"
     ]
    }
   ],
   "source": [
    "creator = club\n",
    "\n",
    "# Step 1: Prepare transaction\n",
    "sp = algod_client.suggested_params()\n",
    "txn = transaction.ApplicationDeleteTxn(creator['public'], sp, app_id)\n",
    "\n",
    "# Step 2: sign\n",
    "stxn = txn.sign(creator['private'])\n",
    "\n",
    "# Step 3: send\n",
    "txid = algod_client.send_transactions([stxn])\n",
    "\n",
    "# Step4 : wait for confirmation\n",
    "txinfo = wait_for_confirmation(algod_client, txid)\n",
    "\n",
    "# display results\n",
    "print(\"Deleted app-id:\", txinfo[\"txn\"][\"txn\"][\"apid\"])"
   ]
  },
  {
   "cell_type": "code",
   "execution_count": null,
   "id": "a96af6c8-1655-476e-ab7a-9d726f3356b6",
   "metadata": {},
   "outputs": [],
   "source": []
  }
 ],
 "metadata": {
  "kernelspec": {
   "display_name": "Python 3 (ipykernel)",
   "language": "python",
   "name": "python3"
  },
  "language_info": {
   "codemirror_mode": {
    "name": "ipython",
    "version": 3
   },
   "file_extension": ".py",
   "mimetype": "text/x-python",
   "name": "python",
   "nbconvert_exporter": "python",
   "pygments_lexer": "ipython3",
   "version": "3.10.9"
  }
 },
 "nbformat": 4,
 "nbformat_minor": 5
}
