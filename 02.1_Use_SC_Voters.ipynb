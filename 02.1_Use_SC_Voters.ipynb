{
 "cells": [
  {
   "cell_type": "markdown",
   "id": "2652072f-0614-40e4-8312-16ea36358ea4",
   "metadata": {
    "jp-MarkdownHeadingCollapsed": true,
    "tags": []
   },
   "source": [
    "**Writing Smart Contracts 2024: Final Project by Kristina Odermatt (odermk@usi.ch)**\n",
    "\n",
    "**(6) Voting**:  A club has a membership list with the public keys of all members. Write a smart contract that allows members to vote for one of three candidates (Rossi, Smith or Meier). Extension: (1) Ensure that voting is only possible in a certain time frame.\n",
    "\n"
   ]
  },
  {
   "cell_type": "markdown",
   "id": "b8b0feaf-17cf-46bc-a7fe-e9ea4c3e691e",
   "metadata": {
    "tags": []
   },
   "source": [
    "# **Notebook 2.1: Using the smart contract for Voters**"
   ]
  },
  {
   "cell_type": "markdown",
   "id": "0b7a5021-a3e7-4937-bbaf-73c6f7e5bb18",
   "metadata": {
    "tags": []
   },
   "source": [
    "## Setup\n"
   ]
  },
  {
   "cell_type": "code",
   "execution_count": 16,
   "id": "b5e21c38-597a-4a26-a692-24ec20ea958d",
   "metadata": {},
   "outputs": [],
   "source": [
    "# load shared code and credentials\n",
    "from algo_util import *\n",
    "\n",
    "cred = load_credentials(\"./credentials_project\")\n",
    "members = cred['Members']\n",
    "club = cred['Club']"
   ]
  },
  {
   "cell_type": "code",
   "execution_count": 17,
   "id": "882101c8-0991-499f-93bc-eb8c90c0b594",
   "metadata": {},
   "outputs": [],
   "source": [
    "# import necessary modules and functions from the Algorand SDK\n",
    "from algosdk import account, mnemonic  \n",
    "from algosdk.v2client import algod  \n",
    "from algosdk import transaction  \n",
    "from algosdk.transaction import PaymentTxn  \n",
    "from algosdk.transaction import AssetConfigTxn, AssetTransferTxn, AssetFreezeTxn  \n",
    "import algosdk.error  \n",
    "import json  \n",
    "import base64 \n",
    "import datetime  "
   ]
  },
  {
   "cell_type": "code",
   "execution_count": 18,
   "id": "b418644e-3232-47fc-a623-812046213fbf",
   "metadata": {},
   "outputs": [],
   "source": [
    "# import all the contents from the pyteal module\n",
    "from pyteal import *"
   ]
  },
  {
   "cell_type": "code",
   "execution_count": 19,
   "id": "499b3828-5416-43f2-9eb2-c9b619a158e5",
   "metadata": {},
   "outputs": [
    {
     "data": {
      "text/plain": [
       "38927118"
      ]
     },
     "execution_count": 19,
     "metadata": {},
     "output_type": "execute_result"
    }
   ],
   "source": [
    "# initialize the algod client (Testnet)\n",
    "algod_client = algod.AlgodClient(algod_token='', algod_address=cred['algod_test'], headers=cred['api_token'])\n",
    "algod_client.status()['last-round']"
   ]
  },
  {
   "cell_type": "code",
   "execution_count": 20,
   "id": "29ca890c-d1fe-4e44-ba90-3936a824b545",
   "metadata": {},
   "outputs": [],
   "source": [
    "# define the app_id from '01_Create_SC'\n",
    "\n",
    "app_id = 640731779        # <--- ‼️‼️ INSERT/UPDATE APP_ID"
   ]
  },
  {
   "cell_type": "markdown",
   "id": "08bae7bf-4228-406d-91e5-66288e15605c",
   "metadata": {
    "tags": []
   },
   "source": [
    "## Step 1: Voter Opts-in"
   ]
  },
  {
   "cell_type": "markdown",
   "id": "39669c2b-e1c9-4fb4-8d28-a60bd16f87db",
   "metadata": {
    "tags": []
   },
   "source": [
    "#### **For the purpose of this project, I have included this function which opts-in all memebers at once**\n",
    "* Memebers individually would **not** use this function as they opt-in individually\n",
    "* Check the 'Individual opt-in' function below to see how it would look like for each member\n"
   ]
  },
  {
   "cell_type": "code",
   "execution_count": 21,
   "id": "d6e3c9fc-df62-43a0-be51-7e5f1931d703",
   "metadata": {},
   "outputs": [
    {
     "name": "stdout",
     "output_type": "stream",
     "text": [
      "Current round is  38927119.\n",
      "Waiting for round 38927119 to finish.\n",
      "Waiting for round 38927120 to finish.\n",
      "Transaction 2LJDDISFX2GFKUMF45HFVYYRJ76EJT7RIGLV5FUFTP5WDRFIGEOQ confirmed in round 38927121.\n",
      "Current round is  38927121.\n",
      "Waiting for round 38927121 to finish.\n",
      "Waiting for round 38927122 to finish.\n",
      "Transaction OPDWGAU2PBMWPNR65MZBVIYDWUHGOYIRKKEV4IQ5MYM5NZDFHWBA confirmed in round 38927123.\n",
      "Current round is  38927123.\n",
      "Waiting for round 38927123 to finish.\n",
      "Waiting for round 38927124 to finish.\n",
      "Transaction BU7AATRRS7KCAQ4V4TEBASXGO2AHNLDFPT6POJNXXA6FOIRJPBWQ confirmed in round 38927125.\n",
      "Current round is  38927125.\n",
      "Waiting for round 38927125 to finish.\n",
      "Waiting for round 38927126 to finish.\n",
      "Transaction QRF3BCYSVAVWQTSGMH7I6UHTVCHZDN5AIXESCR3OXQUOS4UX4GWA confirmed in round 38927127.\n",
      "Current round is  38927127.\n",
      "Waiting for round 38927127 to finish.\n",
      "Waiting for round 38927128 to finish.\n",
      "Transaction QRHGY6NLFIIMUJPB4FHDFYNNEWP5NNWQ3J6QMP62XSARMICNB5FQ confirmed in round 38927129.\n",
      "Current round is  38927129.\n",
      "Waiting for round 38927129 to finish.\n",
      "Waiting for round 38927130 to finish.\n",
      "Transaction Q6NB35KMRFJJSTAF6FJVH5TC6PJLV4ZJOGN3OEV53VQKS7NIIL2Q confirmed in round 38927131.\n",
      "Current round is  38927131.\n",
      "Waiting for round 38927131 to finish.\n",
      "Waiting for round 38927132 to finish.\n",
      "Transaction BPUOV2IQY6DC426TWAHEHBB5QHKUA3EO27WOGMVNBZ4BHAQWNZOA confirmed in round 38927133.\n",
      "Current round is  38927133.\n",
      "Waiting for round 38927133 to finish.\n",
      "Waiting for round 38927134 to finish.\n",
      "Transaction ZKDKNLBHBJPAWLFVOMDU7BHSHE3YFZB6SPVTVLOJ4BGILKXDTSPA confirmed in round 38927135.\n",
      "Current round is  38927135.\n",
      "Waiting for round 38927135 to finish.\n",
      "Waiting for round 38927136 to finish.\n",
      "Transaction PH564LAQWBBGNJT5NPQBIQSF7T7CCFUK3OR6NH4BURD675FONLWQ confirmed in round 38927137.\n",
      "Current round is  38927137.\n",
      "Waiting for round 38927137 to finish.\n",
      "Waiting for round 38927138 to finish.\n",
      "Transaction RQ4RC6C6TYJWMF7R6ZJMAASROSW2VICOIA3QUOZJZDFNNP2LMMDA confirmed in round 38927139.\n",
      "Current round is  38927139.\n",
      "Waiting for round 38927139 to finish.\n",
      "Waiting for round 38927140 to finish.\n",
      "Transaction HXDLCBO4ONB2WGZSOM3YOMYVYWB6WSG2UYDSQOK4DWRU4R4KOURA confirmed in round 38927141.\n",
      "Current round is  38927141.\n",
      "Waiting for round 38927141 to finish.\n",
      "Waiting for round 38927142 to finish.\n",
      "Transaction HG4CNSYDKNES55QMCUEGIZ3AQASKV2ZMIXIFQ7PPEETXVOA4UXCQ confirmed in round 38927143.\n",
      "Current round is  38927143.\n",
      "Waiting for round 38927143 to finish.\n",
      "Waiting for round 38927144 to finish.\n",
      "Transaction YGTYMKSOCKBZFKZI32XFRFDDA256WJ73IAUFI6WNPOEWMY4Q2VVA confirmed in round 38927145.\n",
      "Current round is  38927145.\n",
      "Waiting for round 38927145 to finish.\n",
      "Waiting for round 38927146 to finish.\n",
      "Transaction 35KMOFZ2DJSLEJ7S7FLRLNIEXBISYCHHUCX27VVCD5TZPEWLIBVQ confirmed in round 38927147.\n",
      "Current round is  38927147.\n",
      "Waiting for round 38927147 to finish.\n",
      "Waiting for round 38927148 to finish.\n",
      "Transaction DOTP5NKPS7SV7GAGNCJE2MJPDSRKPD6YLLJKMW775QABMTZTOQ2A confirmed in round 38927149.\n"
     ]
    }
   ],
   "source": [
    "# Prepare transaction for each member and opt them in\n",
    "for member_id, member_details in members.items():\n",
    "    member_public_key = member_details['public']\n",
    "    member_private_key = member_details['private']\n",
    "    \n",
    "    #Prepare transaction\n",
    "    sp = algod_client.suggested_params()\n",
    "    txn = transaction.ApplicationOptInTxn(member_public_key, sp, app_id)\n",
    "    \n",
    "    # Sign transaction\n",
    "    stxn = txn.sign(member_private_key)\n",
    "    \n",
    "    # Send transaction\n",
    "    txid = algod_client.send_transactions([stxn])\n",
    "    \n",
    "    # Await confirmation\n",
    "    txinfo = wait_for_confirmation(algod_client, txid)\n"
   ]
  },
  {
   "cell_type": "markdown",
   "id": "eb2632bd-97f9-4a70-828b-70399696e3c2",
   "metadata": {
    "tags": []
   },
   "source": [
    "#### **Individual opt-in for each Member** \n",
    "* the function is of type raw **intentionally**"
   ]
  },
  {
   "cell_type": "raw",
   "id": "75d59ba6-e857-481a-8d39-d74b35656100",
   "metadata": {},
   "source": [
    "member_name = 'Member_1' # <--  ‼️ UPDATE/CHANGE Member's name\n",
    "user = members[member_name]\n",
    "\n",
    "# Step 1: prepare transaction\n",
    "sp = algod_client.suggested_params()\n",
    "txn = transaction.ApplicationOptInTxn(user['public'], sp, app_id)\n",
    "\n",
    "# Step 2: sign transaction\n",
    "stxn = txn.sign(user['private'])\n",
    "\n",
    "# Step 3: send\n",
    "txid = algod_client.send_transactions([stxn])\n",
    "\n",
    "# Step 4: await confirmation\n",
    "txinfo = wait_for_confirmation(algod_client, txid)"
   ]
  },
  {
   "cell_type": "markdown",
   "id": "f1bf61ea-136c-45b3-9455-83e211acf20a",
   "metadata": {
    "tags": []
   },
   "source": [
    "## Step 2: Casting a vote\n",
    "* Member votes for one candidate"
   ]
  },
  {
   "cell_type": "markdown",
   "id": "e0ba9bd7-ed99-4913-ba08-ba92a494133d",
   "metadata": {
    "tags": []
   },
   "source": [
    "####  **For the purpose of this project, the following two cells set already the votes for each Member**\n",
    "* Memebers individually would **not** use this function \n",
    "* Check the \"Individual vote\" function below to see how each memeber would cast their vote individually"
   ]
  },
  {
   "cell_type": "code",
   "execution_count": 22,
   "id": "2dece2e6-5a55-4c3c-b080-03f50a0f42e9",
   "metadata": {},
   "outputs": [],
   "source": [
    "def add_vote(member_name, candidate_name):\n",
    "    user = members[member_name]  # Access the member account \n",
    "\n",
    "    # Step 1: Prepare the transaction\n",
    "    sp = algod_client.suggested_params()\n",
    "    candidate_name = candidate_name\n",
    "    txn = transaction.ApplicationNoOpTxn(\n",
    "        user['public'],  # Sender's public key\n",
    "        sp,\n",
    "        app_id,\n",
    "        [bytes(candidate_name, 'utf-8')]  # Include the candidate's name as an argument\n",
    "    )\n",
    "\n",
    "    # Step 2: Sign the transaction\n",
    "    stxn = txn.sign(user['private'])\n",
    "\n",
    "    # Step 3: Send the transaction\n",
    "    txid = algod_client.send_transactions([stxn])\n",
    "\n",
    "    # Step 4: Wait for confirmation\n",
    "    txinfo = wait_for_confirmation(algod_client, txid)"
   ]
  },
  {
   "cell_type": "code",
   "execution_count": 23,
   "id": "3f6b6f5a-99f6-459c-83e8-1fb4cc78b70a",
   "metadata": {},
   "outputs": [
    {
     "name": "stdout",
     "output_type": "stream",
     "text": [
      "Current round is  38927157.\n",
      "Waiting for round 38927157 to finish.\n",
      "Waiting for round 38927158 to finish.\n",
      "Transaction 2MZDTNQKEUD3OTV5IZ65RWOPPHNZORISYMH4QA2YR3QTU356MEJA confirmed in round 38927159.\n",
      "Current round is  38927159.\n",
      "Waiting for round 38927159 to finish.\n",
      "Waiting for round 38927160 to finish.\n",
      "Transaction MIM7OWW7NXI3IDMDUCW3QRPVWOT27MYP52DAKMXNJ4M2QV2JY7SA confirmed in round 38927161.\n",
      "Current round is  38927161.\n",
      "Waiting for round 38927161 to finish.\n",
      "Waiting for round 38927162 to finish.\n",
      "Transaction K5KZPDY5S2MZU3FOMZ4IQBXMFMHJYYHAK6YGEYXC7IVRJUU2IAVQ confirmed in round 38927163.\n",
      "Current round is  38927163.\n",
      "Waiting for round 38927163 to finish.\n",
      "Waiting for round 38927164 to finish.\n",
      "Transaction LHOI7HG2FATWZBAW7XHQ7CVORWDLRR5V5STEKEDUBD7DGIMG2W6Q confirmed in round 38927165.\n",
      "Current round is  38927165.\n",
      "Waiting for round 38927165 to finish.\n",
      "Waiting for round 38927166 to finish.\n",
      "Transaction I7U6XSHKDK6WGSPW7T3ESP5OMDH2FYTXV2IXL26LXLK3LW5FI3AQ confirmed in round 38927167.\n",
      "Current round is  38927167.\n",
      "Waiting for round 38927167 to finish.\n",
      "Waiting for round 38927168 to finish.\n",
      "Transaction IAPY2ZJVGFBYGKYGIWOGAMP7N3Y4WLNT4X2UJF6MJ7HA6YKAWJLQ confirmed in round 38927169.\n",
      "Current round is  38927169.\n",
      "Waiting for round 38927169 to finish.\n",
      "Waiting for round 38927170 to finish.\n",
      "Transaction JGLX7JZZYA3BFUUHBJAEMEHGPJOWFRLXXUCUHC6YD6WITI5PHULQ confirmed in round 38927171.\n",
      "Current round is  38927171.\n",
      "Waiting for round 38927171 to finish.\n",
      "Waiting for round 38927172 to finish.\n",
      "Transaction DLY4H3JRL6UEXETUNCVERET7NKIGDWQYZBERQOLIALFONNO34AVQ confirmed in round 38927173.\n",
      "Current round is  38927173.\n",
      "Waiting for round 38927173 to finish.\n",
      "Waiting for round 38927174 to finish.\n",
      "Transaction PXZNWJZDKYKKACQSE2SXVFHK6EUXHCJHBCTJGBDDYSJYZMAJUBKA confirmed in round 38927175.\n",
      "Current round is  38927175.\n",
      "Waiting for round 38927175 to finish.\n",
      "Waiting for round 38927176 to finish.\n",
      "Transaction 4BEHAKYZMOSARAYA55MHMP6MDGS4KI5XQLZHKJ34BE3A4RR5CJ3Q confirmed in round 38927177.\n",
      "Current round is  38927177.\n",
      "Waiting for round 38927177 to finish.\n",
      "Waiting for round 38927178 to finish.\n",
      "Transaction BWVWPSGMD3VSPXEAYSTIMZBVHV5PMB6HHCVJBBNP74DJZHF7EEYQ confirmed in round 38927179.\n",
      "Current round is  38927179.\n",
      "Waiting for round 38927179 to finish.\n",
      "Waiting for round 38927180 to finish.\n",
      "Transaction MA5TZLMLL45ODQ7SQHAWUB74G6KE7VPKWYO55XWCRKWYKFKA34UA confirmed in round 38927181.\n",
      "Current round is  38927181.\n",
      "Waiting for round 38927181 to finish.\n",
      "Waiting for round 38927182 to finish.\n",
      "Transaction P6NWRMLNGCVNRQ46E27C7UV6FVUC44BG6HHT6DUGH4IFNB7KEJWA confirmed in round 38927183.\n",
      "Current round is  38927183.\n",
      "Waiting for round 38927183 to finish.\n",
      "Waiting for round 38927184 to finish.\n",
      "Transaction PTZVBY4V324QCG3276EVGP5JXFWIRAFOC4OQ3ZI36GWXSBCLUA4A confirmed in round 38927185.\n"
     ]
    }
   ],
   "source": [
    "add_vote(\"Member_1\", \"Meier\")\n",
    "add_vote(\"Member_2\", \"Rossi\")\n",
    "add_vote(\"Member_3\", \"Rossi\")\n",
    "add_vote(\"Member_4\", \"Rossi\")\n",
    "add_vote(\"Member_5\", \"Rossi\")\n",
    "add_vote(\"Member_6\", \"Rossi\")\n",
    "add_vote(\"Member_7\", \"Rossi\")\n",
    "add_vote(\"Member_8\", \"Smith\")\n",
    "add_vote(\"Member_9\", \"Smith\")\n",
    "add_vote(\"Member_10\", \"Smith\")\n",
    "add_vote(\"Member_11\", \"Meier\")\n",
    "add_vote(\"Member_12\", \"Meier\")\n",
    "add_vote(\"Member_13\", \"Meier\")\n",
    "add_vote(\"Member_14\", \"Rossi\")"
   ]
  },
  {
   "cell_type": "markdown",
   "id": "de2cdf3b-d45e-41a7-b237-569f9eb14746",
   "metadata": {},
   "source": [
    " ‼️ **Before running the following vote, please test the Smart Contract in Notebook '03_Project_WSC' for test 3.1, 3.2, 3.4 (wait for voting period to end)**"
   ]
  },
  {
   "cell_type": "code",
   "execution_count": null,
   "id": "ebdc3995-e4ff-4348-bb41-9e35ba11418e",
   "metadata": {},
   "outputs": [],
   "source": [
    "add_vote(\"Member_15\", \"Rossi\")"
   ]
  },
  {
   "cell_type": "markdown",
   "id": "1e4dd419-c689-4bc3-af3d-81e99b07a79e",
   "metadata": {
    "tags": []
   },
   "source": [
    "#### **Individual vote**\n",
    "* the function is of type raw **intentionally**"
   ]
  },
  {
   "cell_type": "raw",
   "id": "bbdb4837-f990-4464-a391-b6f6ea26f0c3",
   "metadata": {},
   "source": [
    "member_name = 'Member_1'     # <-- ‼️ Update/change for each member\n",
    "\n",
    "candidate_name = \"xyz\"       # <-- ‼️ Update/change to preferred candidate\n",
    "\n",
    "\n",
    "# Step 1: Prepare the transaction\n",
    "user = members[member_name]  \n",
    "sp = algod_client.suggested_params()\n",
    "txn = transaction.ApplicationNoOpTxn(\n",
    "    user['public'],  # Sender's public key\n",
    "    sp,\n",
    "    app_id,\n",
    "    [bytes(candidate_name, 'utf-8')]  # Include the candidate's name as an argument\n",
    ")\n",
    "\n",
    "# Step 2: Sign the transaction\n",
    "stxn = txn.sign(user['private'])\n",
    "\n",
    "# Step 3: Send the transaction\n",
    "txid = algod_client.send_transactions([stxn])\n",
    "\n",
    "# Step 4: Wait for confirmation\n",
    "txinfo = wait_for_confirmation(algod_client, txid)\n"
   ]
  },
  {
   "cell_type": "markdown",
   "id": "e7fa4dc3-3b85-4061-93f0-aab06c32ef64",
   "metadata": {
    "tags": []
   },
   "source": [
    "## Step 3: Inspect global state and local state\n",
    "This step allows member to\n",
    "* check votes for each candidate \n",
    "* check if vote has been registered"
   ]
  },
  {
   "cell_type": "code",
   "execution_count": 25,
   "id": "d856bd99-46ce-487a-8ea2-5dc541a1f930",
   "metadata": {},
   "outputs": [
    {
     "data": {
      "text/plain": [
       "{'Meier': 4,\n",
       " 'Members': 15,\n",
       " 'Rossi': 7,\n",
       " 'EndRound': 38927305,\n",
       " 'StartRound': 38927105,\n",
       " 'TotalVotes': 14,\n",
       " 'Note': 'Welcome to the Voting System',\n",
       " 'Smith': 3}"
      ]
     },
     "execution_count": 25,
     "metadata": {},
     "output_type": "execute_result"
    }
   ],
   "source": [
    "# Inspecting global state\n",
    "read_global_state(algod_client,app_id) "
   ]
  },
  {
   "cell_type": "code",
   "execution_count": 26,
   "id": "f5f973b9-54f0-4655-9265-ba205763c8a1",
   "metadata": {},
   "outputs": [
    {
     "data": {
      "text/plain": [
       "{'has_voted': 1}"
      ]
     },
     "execution_count": 26,
     "metadata": {},
     "output_type": "execute_result"
    }
   ],
   "source": [
    "# insepct local state for Members \n",
    "member_name = 'Member_1'          # <-- ‼️ UPDATE/CHANGE Member's name \n",
    "\n",
    "read_local_state(algod_client,members[member_name]['public'],app_id)"
   ]
  },
  {
   "cell_type": "markdown",
   "id": "0dab7184-632e-4b54-92ab-04401221cc86",
   "metadata": {
    "tags": []
   },
   "source": [
    "## Step 4: Voter closes out\n",
    "‼️ **Before running the following steps, please test the Smart Contract in Notebook '03_Testing_SC' for tests 3.1, 3.2, 3.3, 3.4, 3.5**\n"
   ]
  },
  {
   "cell_type": "markdown",
   "id": "4b0d5671-3ef8-4e9e-87d1-4fcaca354e93",
   "metadata": {
    "tags": []
   },
   "source": [
    "#### **For the purpose of this project, I have included this function which closes-out all memebers at once**\n",
    "* Memebers individually would **not** use this function as they close-out individually\n",
    "* Check the 'Individual close out' function below to see how it would look like for each member\n"
   ]
  },
  {
   "cell_type": "code",
   "execution_count": 27,
   "id": "a8b730a9-0960-46e1-8bf4-c06cdcef4029",
   "metadata": {},
   "outputs": [
    {
     "name": "stdout",
     "output_type": "stream",
     "text": [
      "Current round is  38927590.\n",
      "Waiting for round 38927590 to finish.\n",
      "Waiting for round 38927591 to finish.\n",
      "Transaction LKK4G7HPFU7GXNH2ML7CLCXDDGWKRDCVDMDKMWV5C4YVA7EIHOQA confirmed in round 38927592.\n",
      "Member Member_1 CloseOut transaction confirmed. Transaction ID: LKK4G7HPFU7GXNH2ML7CLCXDDGWKRDCVDMDKMWV5C4YVA7EIHOQA\n",
      "Current round is  38927592.\n",
      "Waiting for round 38927592 to finish.\n",
      "Waiting for round 38927593 to finish.\n",
      "Transaction AA53KSYCJ7C6JJ6PRTFNK36GL6RAPB47AW37I24LH23RJCRPGTMA confirmed in round 38927594.\n",
      "Member Member_2 CloseOut transaction confirmed. Transaction ID: AA53KSYCJ7C6JJ6PRTFNK36GL6RAPB47AW37I24LH23RJCRPGTMA\n",
      "Current round is  38927594.\n",
      "Waiting for round 38927594 to finish.\n",
      "Waiting for round 38927595 to finish.\n",
      "Transaction AKNEAQOKTYMD66224AHLI7FRKXF7SOFNQEBF3FZ5WKSEFFSCT6YQ confirmed in round 38927596.\n",
      "Member Member_3 CloseOut transaction confirmed. Transaction ID: AKNEAQOKTYMD66224AHLI7FRKXF7SOFNQEBF3FZ5WKSEFFSCT6YQ\n",
      "Current round is  38927596.\n",
      "Waiting for round 38927596 to finish.\n",
      "Waiting for round 38927597 to finish.\n",
      "Transaction UXISJJOVSILEAOHXWZCY4AEOHLF3I7V6KXBBKVLDYZDFHLCSE65Q confirmed in round 38927598.\n",
      "Member Member_4 CloseOut transaction confirmed. Transaction ID: UXISJJOVSILEAOHXWZCY4AEOHLF3I7V6KXBBKVLDYZDFHLCSE65Q\n",
      "Current round is  38927598.\n",
      "Waiting for round 38927598 to finish.\n",
      "Waiting for round 38927599 to finish.\n",
      "Transaction 3M7BDX2VJFN3ZRVWPJXPS3P422CRF6JW2F6HU7376S4ROMNIZQ6A confirmed in round 38927600.\n",
      "Member Member_5 CloseOut transaction confirmed. Transaction ID: 3M7BDX2VJFN3ZRVWPJXPS3P422CRF6JW2F6HU7376S4ROMNIZQ6A\n",
      "Current round is  38927600.\n",
      "Waiting for round 38927600 to finish.\n",
      "Waiting for round 38927601 to finish.\n",
      "Transaction JZ54UI5G55AT23T4FVSEYTEN2Z636V2DMYFX5EGQPO3GSHK4PSEA confirmed in round 38927602.\n",
      "Member Member_6 CloseOut transaction confirmed. Transaction ID: JZ54UI5G55AT23T4FVSEYTEN2Z636V2DMYFX5EGQPO3GSHK4PSEA\n",
      "Current round is  38927602.\n",
      "Waiting for round 38927602 to finish.\n",
      "Waiting for round 38927603 to finish.\n",
      "Transaction YKVOH4MST6DD54JV4AXQXIQKHDREGEHU2SUQLXVIUMQY354BEFNQ confirmed in round 38927604.\n",
      "Member Member_7 CloseOut transaction confirmed. Transaction ID: YKVOH4MST6DD54JV4AXQXIQKHDREGEHU2SUQLXVIUMQY354BEFNQ\n",
      "Current round is  38927604.\n",
      "Waiting for round 38927604 to finish.\n",
      "Waiting for round 38927605 to finish.\n",
      "Transaction TYHZ6UPIUCLLG6RVBK7IA3IPPA4YQAXY7ONWW56TRVL6GTCIZGNA confirmed in round 38927606.\n",
      "Member Member_8 CloseOut transaction confirmed. Transaction ID: TYHZ6UPIUCLLG6RVBK7IA3IPPA4YQAXY7ONWW56TRVL6GTCIZGNA\n",
      "Current round is  38927606.\n",
      "Waiting for round 38927606 to finish.\n",
      "Waiting for round 38927607 to finish.\n",
      "Transaction FJF3UINHRYJNN3GTHCN2U63L5M2WWNXJZGBI67UMTT33XULREIRQ confirmed in round 38927608.\n",
      "Member Member_9 CloseOut transaction confirmed. Transaction ID: FJF3UINHRYJNN3GTHCN2U63L5M2WWNXJZGBI67UMTT33XULREIRQ\n",
      "Current round is  38927608.\n",
      "Waiting for round 38927608 to finish.\n",
      "Waiting for round 38927609 to finish.\n",
      "Transaction HM3UGNGKXHDHIOPBAUC6S2ZDR55QPYQ2BCCQ5IKQ44WS4FYDWHPQ confirmed in round 38927610.\n",
      "Member Member_10 CloseOut transaction confirmed. Transaction ID: HM3UGNGKXHDHIOPBAUC6S2ZDR55QPYQ2BCCQ5IKQ44WS4FYDWHPQ\n",
      "Current round is  38927610.\n",
      "Waiting for round 38927610 to finish.\n",
      "Waiting for round 38927611 to finish.\n",
      "Transaction W33E7MY6X4WNWJAQOPPQRYTJBJTV4ERCOFN424QH4NDIJCHMMAJA confirmed in round 38927612.\n",
      "Member Member_11 CloseOut transaction confirmed. Transaction ID: W33E7MY6X4WNWJAQOPPQRYTJBJTV4ERCOFN424QH4NDIJCHMMAJA\n",
      "Current round is  38927612.\n",
      "Waiting for round 38927612 to finish.\n",
      "Waiting for round 38927613 to finish.\n",
      "Transaction 6LSS5LJKWC2DD3UBREO4GRDH2CH3R4ZJZCCNQV27SZ5WWSALF33A confirmed in round 38927614.\n",
      "Member Member_12 CloseOut transaction confirmed. Transaction ID: 6LSS5LJKWC2DD3UBREO4GRDH2CH3R4ZJZCCNQV27SZ5WWSALF33A\n",
      "Current round is  38927614.\n",
      "Waiting for round 38927614 to finish.\n",
      "Waiting for round 38927615 to finish.\n",
      "Transaction OXV2OKJ4AHY5HG6RVI2KSUKMHNW4DMNBTB3RMN2MOBTRB5ZAZ6SA confirmed in round 38927616.\n",
      "Member Member_13 CloseOut transaction confirmed. Transaction ID: OXV2OKJ4AHY5HG6RVI2KSUKMHNW4DMNBTB3RMN2MOBTRB5ZAZ6SA\n",
      "Current round is  38927616.\n",
      "Waiting for round 38927616 to finish.\n",
      "Waiting for round 38927617 to finish.\n",
      "Transaction 2AMONTFBEZTBQ7OTW7ONVPBPC27JWBPEX7VYDHXBTVVBCLTWLUDA confirmed in round 38927618.\n",
      "Member Member_14 CloseOut transaction confirmed. Transaction ID: 2AMONTFBEZTBQ7OTW7ONVPBPC27JWBPEX7VYDHXBTVVBCLTWLUDA\n",
      "Current round is  38927618.\n",
      "Waiting for round 38927618 to finish.\n",
      "Waiting for round 38927619 to finish.\n",
      "Transaction 4G2ESNVW34YAIRPMHYBEPCSOFHPFROOCEINJZ2AYMB426K2WVT5A confirmed in round 38927620.\n",
      "Member Member_15 CloseOut transaction confirmed. Transaction ID: 4G2ESNVW34YAIRPMHYBEPCSOFHPFROOCEINJZ2AYMB426K2WVT5A\n"
     ]
    }
   ],
   "source": [
    "for member_id, member_details in members.items():\n",
    "    member_public_key = member_details['public']\n",
    "    member_private_key = member_details['private']\n",
    "    \n",
    "    # Step 1: Prepare the CloseOut transaction\n",
    "    sp = algod_client.suggested_params()\n",
    "    txn = transaction.ApplicationCloseOutTxn(member_public_key, sp, app_id)\n",
    "    \n",
    "    # Step 2: Sign the transaction with the member's private key\n",
    "    stxn = txn.sign(member_private_key)\n",
    "    \n",
    "    # Step 3: Send the transaction\n",
    "    txid = algod_client.send_transactions([stxn])\n",
    "    \n",
    "    # Step 4: Await confirmation\n",
    "    txinfo = wait_for_confirmation(algod_client, txid)\n",
    "    \n",
    "    # Print out confirmation\n",
    "    print(f\"Member {member_id} CloseOut transaction confirmed. Transaction ID: {txid}\")\n"
   ]
  },
  {
   "cell_type": "markdown",
   "id": "9ff7dc5f-baf1-4ac7-909c-d2991e36c46e",
   "metadata": {
    "tags": []
   },
   "source": [
    "####  **Individual close out for each Member** \n",
    "* the function is of type raw **intentionally**"
   ]
  },
  {
   "cell_type": "raw",
   "id": "f1f76178-ea23-4311-b1fc-57d0a6db8768",
   "metadata": {},
   "source": [
    "member_name = 'Member_1'     # <-- ‼️ UPDATE/CHANGE Member's name\n",
    "\n",
    "user = members[member_name]\n",
    "# Step 1: prepare\n",
    "sp = algod_client.suggested_params()\n",
    "txn = transaction.ApplicationCloseOutTxn(user['public'], sp, app_id)\n",
    "\n",
    "# Step 2: sign\n",
    "stxn = txn.sign(user['private'])\n",
    "\n",
    "# Step 3: send\n",
    "txid = algod_client.send_transactions([stxn])\n",
    "\n",
    "# Step 4: wait for condfirmation\n",
    "txinfo = wait_for_confirmation(algod_client, txid)\n"
   ]
  },
  {
   "cell_type": "markdown",
   "id": "500883cb-0891-429a-8414-e8770613f4b4",
   "metadata": {
    "tags": []
   },
   "source": [
    "## Step 5: Inspect local state and global state\n",
    "This step allows member to\n",
    "* make sure user left the app \n",
    "* check one last time the results of voting\n"
   ]
  },
  {
   "cell_type": "code",
   "execution_count": 28,
   "id": "4c73664f-6dc6-466c-89e8-77e34de10799",
   "metadata": {},
   "outputs": [
    {
     "data": {
      "text/plain": [
       "{}"
      ]
     },
     "execution_count": 28,
     "metadata": {},
     "output_type": "execute_result"
    }
   ],
   "source": [
    "# insepct local state for Members \n",
    "member_name = 'Member_1'           # <-- ‼️ UPDATE/CHANGE Member's name \n",
    "\n",
    "read_local_state(algod_client,members[member_name]['public'],app_id)"
   ]
  },
  {
   "cell_type": "code",
   "execution_count": 29,
   "id": "4b1ab7b8-fbfe-4d2a-a1b4-295a98ee2358",
   "metadata": {},
   "outputs": [
    {
     "data": {
      "text/plain": [
       "{'EndRound': 38927305,\n",
       " 'StartRound': 38927105,\n",
       " 'TotalVotes': 14,\n",
       " 'Note': 'Welcome to the Voting System',\n",
       " 'Meier': 4,\n",
       " 'Smith': 3,\n",
       " 'Members': 15,\n",
       " 'Rossi': 7}"
      ]
     },
     "execution_count": 29,
     "metadata": {},
     "output_type": "execute_result"
    }
   ],
   "source": [
    "# inspect global state\n",
    "read_global_state(algod_client,app_id)"
   ]
  }
 ],
 "metadata": {
  "kernelspec": {
   "display_name": "Python 3 (ipykernel)",
   "language": "python",
   "name": "python3"
  },
  "language_info": {
   "codemirror_mode": {
    "name": "ipython",
    "version": 3
   },
   "file_extension": ".py",
   "mimetype": "text/x-python",
   "name": "python",
   "nbconvert_exporter": "python",
   "pygments_lexer": "ipython3",
   "version": "3.10.9"
  }
 },
 "nbformat": 4,
 "nbformat_minor": 5
}
